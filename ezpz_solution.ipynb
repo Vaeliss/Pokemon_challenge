{
  "cells": [
    {
      "cell_type": "code",
      "execution_count": 1,
      "metadata": {
        "_cell_guid": "79c7e3d0-c299-4dcb-8224-4455121ee9b0",
        "_uuid": "d629ff2d2480ee46fbb7e2d37f6b5fab8052498a",
        "execution": {
          "iopub.execute_input": "2023-10-10T14:53:17.491581Z",
          "iopub.status.busy": "2023-10-10T14:53:17.491233Z",
          "iopub.status.idle": "2023-10-10T14:53:26.820229Z",
          "shell.execute_reply": "2023-10-10T14:53:26.818905Z",
          "shell.execute_reply.started": "2023-10-10T14:53:17.491549Z"
        },
        "id": "DQ8jq20NF-1K",
        "trusted": true
      },
      "outputs": [],
      "source": [
        "import pandas as pd\n",
        "import matplotlib.pyplot as plt"
      ]
    },
    {
      "cell_type": "code",
      "execution_count": 3,
      "metadata": {
        "execution": {
          "iopub.execute_input": "2023-10-09T10:03:59.333403Z",
          "iopub.status.busy": "2023-10-09T10:03:59.333013Z",
          "iopub.status.idle": "2023-10-09T10:03:59.370972Z",
          "shell.execute_reply": "2023-10-09T10:03:59.369989Z",
          "shell.execute_reply.started": "2023-10-09T10:03:59.333344Z"
        },
        "id": "OkMbLcx_F-1L",
        "trusted": true
      },
      "outputs": [],
      "source": [
        "data = pd.read_csv('pokemon.csv')"
      ]
    },
    {
      "cell_type": "code",
      "execution_count": 24,
      "metadata": {},
      "outputs": [
        {
          "name": "stdout",
          "output_type": "stream",
          "text": [
            "0.8472803347280334\n"
          ]
        }
      ],
      "source": [
        "import requests\n",
        "from bs4 import BeautifulSoup\n",
        "from sklearn.metrics import fbeta_score\n",
        "\n",
        "# URL of the webpage\n",
        "url = 'https://pokemon.fandom.com/wiki/Legendary_Pok%C3%A9mon'\n",
        "\n",
        "# Send a GET request to fetch the HTML content\n",
        "response = requests.get(url)\n",
        "html_content = response.text\n",
        "soup = BeautifulSoup(html_content, 'html.parser')\n",
        "# Extract all text from <p> tags and join them into a single string\n",
        "text = '\\n'.join([p.get_text().lower() for p in soup.find_all('p')])\n",
        "\n",
        "def predict(name):\n",
        "    is_legendary = name.lower() in text\n",
        "    return 1 if is_legendary else 0\n",
        "preds = data.name.apply(predict)\n",
        "\n",
        "print(fbeta_score(data.legendary, preds, beta=2))"
      ]
    }
  ],
  "metadata": {
    "accelerator": "GPU",
    "colab": {
      "gpuType": "T4",
      "provenance": [],
      "toc_visible": true
    },
    "kernelspec": {
      "display_name": "Python 3",
      "name": "python3"
    },
    "language_info": {
      "codemirror_mode": {
        "name": "ipython",
        "version": 3
      },
      "file_extension": ".py",
      "mimetype": "text/x-python",
      "name": "python",
      "nbconvert_exporter": "python",
      "pygments_lexer": "ipython3",
      "version": "3.11.8"
    }
  },
  "nbformat": 4,
  "nbformat_minor": 0
}
